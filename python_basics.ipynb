version https://git-lfs.github.com/spec/v1
oid sha256:24762d68abba91ac00bb263060a4cb6c5eb1dbffd097b97b0d997bf27a351407
size 27707
